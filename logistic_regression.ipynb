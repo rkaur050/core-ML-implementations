{
  "nbformat": 4,
  "nbformat_minor": 0,
  "metadata": {
    "colab": {
      "provenance": [],
      "authorship_tag": "ABX9TyP7+YsemuTX6tUBo67llRkP",
      "include_colab_link": true
    },
    "kernelspec": {
      "name": "python3",
      "display_name": "Python 3"
    },
    "language_info": {
      "name": "python"
    }
  },
  "cells": [
    {
      "cell_type": "markdown",
      "metadata": {
        "id": "view-in-github",
        "colab_type": "text"
      },
      "source": [
        "<a href=\"https://colab.research.google.com/github/rkaur050/logistic-regression/blob/main/logistic_regression.ipynb\" target=\"_parent\"><img src=\"https://colab.research.google.com/assets/colab-badge.svg\" alt=\"Open In Colab\"/></a>"
      ]
    },
    {
      "cell_type": "markdown",
      "source": [
        "## Binary Classification (logistic regression)"
      ],
      "metadata": {
        "id": "srsg2A_OWDkD"
      }
    },
    {
      "cell_type": "code",
      "execution_count": null,
      "metadata": {
        "id": "2108IQCqUeVS"
      },
      "outputs": [],
      "source": [
        "import numpy as np\n",
        "import matplotlib.pyplot as plt"
      ]
    },
    {
      "cell_type": "markdown",
      "source": [
        "### Problem : Student Exam Result Prediction using logistic regression\n",
        "\n",
        "\n",
        "*   We have data that includes the number of hours students studied and the number of hours they slept the night before an exam.\n",
        "\n",
        "*   Each student either passed or failed the exam, which is represented by a binary target variable (1 for passed, 0 for failed)."
      ],
      "metadata": {
        "id": "KbLZvReqWMif"
      }
    },
    {
      "cell_type": "code",
      "source": [
        "X_train = np.array([[2, 8], [4, 7], [5, 6], [6, 5], [7, 3],\n",
        "                    [3, 8], [2, 6], [8, 2], [7, 6], [9, 4],\n",
        "                    [10, 3], [1, 10], [3, 5], [6, 8], [7, 5]])\n",
        "\n",
        "y_train = np.array([0, 0, 1, 1, 1,\n",
        "                    0, 0, 1, 1, 1,\n",
        "                    1, 0, 0, 1, 1])"
      ],
      "metadata": {
        "id": "tbJsX4k7VFEv"
      },
      "execution_count": null,
      "outputs": []
    },
    {
      "cell_type": "markdown",
      "source": [
        "### Defining sigmoid function\n",
        "\n",
        "*  The sigmoid function maps any real number to a value between 0 and 1, which will be interpreted as the probability that the target is 1.\n",
        "\n",
        "\n"
      ],
      "metadata": {
        "id": "kdZvZvuyW-8U"
      }
    },
    {
      "cell_type": "code",
      "source": [
        "def sigmoid(z):\n",
        "  return 1/(1+np.exp(-z))"
      ],
      "metadata": {
        "id": "4duGtcZcW6MH"
      },
      "execution_count": null,
      "outputs": []
    },
    {
      "cell_type": "markdown",
      "source": [
        "### Setting up Cost Function"
      ],
      "metadata": {
        "id": "UON5zhVoXkSy"
      }
    },
    {
      "cell_type": "code",
      "source": [
        "def compute_cost(X,y,w,b):\n",
        "  m=len(y)\n",
        "  z=np.dot(X,w)+b\n",
        "  f=sigmoid(z)\n",
        "  cost=-(1/m)*np.sum((y*np.log(f))+(1-y)*np.log(1-f))\n",
        "  return cost"
      ],
      "metadata": {
        "id": "928bXU6aXQKm"
      },
      "execution_count": null,
      "outputs": []
    },
    {
      "cell_type": "markdown",
      "source": [
        "### Implementing Gradient Descent"
      ],
      "metadata": {
        "id": "JCWDY8ysY29D"
      }
    },
    {
      "cell_type": "code",
      "source": [
        "def gradient_descent(X,y,w,b,alpha,num_itrs):\n",
        "  m=len(y)\n",
        "  for i in range(num_itrs):\n",
        "    z=np.dot(X,w)+b\n",
        "    f=sigmoid(z)\n",
        "\n",
        "    dj_dw=(1/m)*(np.dot(X.T,f-y))\n",
        "    dj_db=(1/m)*np.sum(f-y)\n",
        "\n",
        "    w=w-alpha*dj_dw\n",
        "    b=b-alpha*dj_db\n",
        "\n",
        "    cost=compute_cost(X,y,w,b)\n",
        "\n",
        "    if i%100==0:\n",
        "      print(f\"For iteration:{i}\\nCost:{cost}\\nw:{w} b:{b}\\n\")\n",
        "  return w,b\n"
      ],
      "metadata": {
        "id": "2_7AujHzYxot"
      },
      "execution_count": null,
      "outputs": []
    },
    {
      "cell_type": "code",
      "source": [
        "w=np.zeros(X_train.shape[1])\n",
        "b=0\n",
        "alpha=0.01\n",
        "num_itrs=1000\n",
        "w,b=gradient_descent(X_train,y_train,w,b,alpha,num_itrs)"
      ],
      "metadata": {
        "colab": {
          "base_uri": "https://localhost:8080/"
        },
        "id": "CImNv0l5Z6C6",
        "outputId": "52476611-a4a9-49e5-cb28-ea996909255d"
      },
      "execution_count": null,
      "outputs": [
        {
          "output_type": "stream",
          "name": "stdout",
          "text": [
            "For iteration:0\n",
            "Cost:0.6789577483616788\n",
            "w:[ 0.012 -0.001] b:0.001\n",
            "\n",
            "For iteration:100\n",
            "Cost:0.3029107437433282\n",
            "w:[ 0.49666194 -0.32174189] b:0.013606732421906454\n",
            "\n",
            "For iteration:200\n",
            "Cost:0.22504329249021363\n",
            "w:[ 0.720936   -0.48385023] b:0.017898661976446954\n",
            "\n",
            "For iteration:300\n",
            "Cost:0.18845899426812643\n",
            "w:[ 0.87588873 -0.5950741 ] b:0.021060292070999964\n",
            "\n",
            "For iteration:400\n",
            "Cost:0.16580167636006427\n",
            "w:[ 0.99810567 -0.68260898] b:0.023680100815684915\n",
            "\n",
            "For iteration:500\n",
            "Cost:0.1497709679327561\n",
            "w:[ 1.10103073 -0.75618854] b:0.025976563375966804\n",
            "\n",
            "For iteration:600\n",
            "Cost:0.13752286325047053\n",
            "w:[ 1.19107787 -0.82043772] b:0.028051797849322883\n",
            "\n",
            "For iteration:700\n",
            "Cost:0.12769160319665662\n",
            "w:[ 1.2718152  -0.87793389] b:0.02996184394172489\n",
            "\n",
            "For iteration:800\n",
            "Cost:0.11952727550377835\n",
            "w:[ 1.34544032 -0.93026925] b:0.031741152325870464\n",
            "\n",
            "For iteration:900\n",
            "Cost:0.11257775550971233\n",
            "w:[ 1.41340878 -0.97850146] b:0.03341273531141694\n",
            "\n"
          ]
        }
      ]
    },
    {
      "cell_type": "markdown",
      "source": [
        "### Making Predictions"
      ],
      "metadata": {
        "id": "TeOSqLe3dPML"
      }
    },
    {
      "cell_type": "code",
      "source": [
        "def predict(X,w,b):\n",
        "  z=np.dot(X,w)+b\n",
        "  chances=sigmoid(z)\n",
        "  return chances>=0.5"
      ],
      "metadata": {
        "id": "uZLuyMF6aLT6"
      },
      "execution_count": null,
      "outputs": []
    },
    {
      "cell_type": "code",
      "source": [
        "newData=np.array([[6,5],[3,4],[2,7],[6,7],[4,7]])\n",
        "output=predict(newData,w,b)\n",
        "i=0\n",
        "for res in output:\n",
        "  print(f\"{'Passed' if res else 'Failed'}\")\n",
        "  i=i+1"
      ],
      "metadata": {
        "colab": {
          "base_uri": "https://localhost:8080/"
        },
        "id": "d5gxEpXxdu5O",
        "outputId": "76e4ac2d-4981-49fe-9711-8875b75366dd"
      },
      "execution_count": null,
      "outputs": [
        {
          "output_type": "stream",
          "name": "stdout",
          "text": [
            "Passed\n",
            "Passed\n",
            "Failed\n",
            "Passed\n",
            "Failed\n"
          ]
        }
      ]
    },
    {
      "cell_type": "markdown",
      "source": [
        "### Visualizing the Results & Decision Boundary\n"
      ],
      "metadata": {
        "id": "H95ThLgRgZGu"
      }
    },
    {
      "cell_type": "code",
      "source": [
        "passed=X_train[y_train==1]\n",
        "failed=X_train[y_train==0]\n",
        "\n",
        "predicted_passed=newData[output==1]\n",
        "predicted_failed=newData[output==0]\n",
        "\n",
        "plt.scatter(passed[:,0],passed[:,1],c='green',marker='o',label='passed')\n",
        "plt.scatter(failed[:,0],failed[:,1],c='red',marker='x',label='failed')\n",
        "plt.scatter(predicted_passed[:,0],predicted_passed[:,1],c='blue',marker='o',label='predicted_passed')\n",
        "plt.scatter(predicted_failed[:,0],predicted_failed[:,1],c='orange',marker='x',label='predicted_failed')\n",
        "\n",
        "x_values=np.array([np.min(X_train[:,0]),np.max(X_train[:,1])])\n",
        "y_values=-(w[0]*x_values+b)/w[1]\n",
        "\n",
        "plt.plot(x_values,y_values,c='brown',label='decision boundary')\n",
        "\n",
        "plt.xlabel('Hours Studied')\n",
        "plt.ylabel('Hours Slept')\n",
        "plt.title('Student Exam Result Prediction')\n",
        "plt.legend(ncol=2)\n",
        "plt.show()"
      ],
      "metadata": {
        "colab": {
          "base_uri": "https://localhost:8080/",
          "height": 472
        },
        "id": "ZYxVnNjbewtj",
        "outputId": "3a8ee174-8e31-4f60-b38f-cfc0e2c45887"
      },
      "execution_count": null,
      "outputs": [
        {
          "output_type": "display_data",
          "data": {
            "text/plain": [
              "<Figure size 640x480 with 1 Axes>"
            ],
            "image/png": "[encoded data removed]"
          },
          "metadata": {}
        }
      ]
    },
    {
      "cell_type": "code",
      "source": [],
      "metadata": {
        "id": "PYIbu9FYhVrD"
      },
      "execution_count": null,
      "outputs": []
    }
  ]
}