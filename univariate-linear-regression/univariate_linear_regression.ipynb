{
  "nbformat": 4,
  "nbformat_minor": 0,
  "metadata": {
    "colab": {
      "provenance": [],
      "collapsed_sections": [
        "ZjvuO8qzj5tq",
        "BrU9tjq_k5O1",
        "GxLB_qdql3lP",
        "uNX-27MW1Ay8"
      ],
      "authorship_tag": "ABX9TyPseW27R0hhe1OOHDi7ErIj",
      "include_colab_link": true
    },
    "kernelspec": {
      "name": "python3",
      "display_name": "Python 3"
    },
    "language_info": {
      "name": "python"
    }
  },
  "cells": [
    {
      "cell_type": "markdown",
      "metadata": {
        "id": "view-in-github",
        "colab_type": "text"
      },
      "source": [
        "<a href=\"https://colab.research.google.com/github/rkaur050/linear-regression/blob/main/univariate_linear_regression.ipynb\" target=\"_parent\"><img src=\"https://colab.research.google.com/assets/colab-badge.svg\" alt=\"Open In Colab\"/></a>"
      ]
    },
    {
      "cell_type": "markdown",
      "source": [
        "### Model Representation for **Linear Regression** in one variable"
      ],
      "metadata": {
        "id": "qtThCEDSi-oI"
      }
    },
    {
      "cell_type": "markdown",
      "source": [
        "### **Problem**: Housing Price Prediction using Simple Linear Regression\n",
        "\n",
        "\n",
        "*   We have data for the size of houses (in 1000 sqft) and their corresponding prices (in 1000s of dollars).\n",
        "*   The goal is to use linear regression to find a relationship between the size of the house and its price, allowing us to predict the price of a house given its size.\n",
        "\n"
      ],
      "metadata": {
        "id": "ZjvuO8qzj5tq"
      }
    },
    {
      "cell_type": "code",
      "execution_count": null,
      "metadata": {
        "id": "nKvWKVsxhHWu"
      },
      "outputs": [],
      "source": [
        "import numpy as np\n",
        "import pandas as pd\n",
        "import matplotlib.pyplot as plt"
      ]
    },
    {
      "cell_type": "code",
      "source": [
        "x_train=np.array([1.0, 2.0, 3.0, 4.0, 5.0, 6.0])\n",
        "y_train=np.array([250, 300, 480,  430,   630, 730])\n",
        "print(f\"x_train={x_train}\")\n",
        "print(f\"y_train={y_train}\")"
      ],
      "metadata": {
        "colab": {
          "base_uri": "https://localhost:8080/"
        },
        "id": "8CJ_RQAajgTb",
        "outputId": "5700c754-1a02-4680-e15f-fdbaaa61b1c8"
      },
      "execution_count": null,
      "outputs": [
        {
          "output_type": "stream",
          "name": "stdout",
          "text": [
            "x_train=[1. 2. 3. 4. 5. 6.]\n",
            "y_train=[250 300 480 430 630 730]\n"
          ]
        }
      ]
    },
    {
      "cell_type": "code",
      "source": [
        "m=x_train.shape[0]\n",
        "print(f\"No. of training examples:{m}\")"
      ],
      "metadata": {
        "colab": {
          "base_uri": "https://localhost:8080/"
        },
        "id": "vTTXcj1uko7e",
        "outputId": "a31910e8-e709-4e7e-a321-87116050c2d5"
      },
      "execution_count": null,
      "outputs": [
        {
          "output_type": "stream",
          "name": "stdout",
          "text": [
            "No. of training examples:6\n"
          ]
        }
      ]
    },
    {
      "cell_type": "markdown",
      "source": [
        "### Plotting of data"
      ],
      "metadata": {
        "id": "BrU9tjq_k5O1"
      }
    },
    {
      "cell_type": "code",
      "source": [
        "plt.scatter(x_train,y_train,marker='x',c='r')\n",
        "plt.title('Housing Prices')\n",
        "plt.ylabel('Price(in 1000s of dollars)')\n",
        "plt.xlabel('Size (in 1000 sqft)')\n",
        "plt.show()"
      ],
      "metadata": {
        "colab": {
          "base_uri": "https://localhost:8080/",
          "height": 472
        },
        "id": "fbpqcc9kk06d",
        "outputId": "53556c88-994b-4985-85bd-0fca7b93913d"
      },
      "execution_count": null,
      "outputs": [
        {
          "output_type": "display_data",
          "data": {
            "text/plain": [
              "<Figure size 640x480 with 1 Axes>"
            ],
            "image/png": "[encoded data removed]"
          },
          "metadata": {}
        }
      ]
    },
    {
      "cell_type": "markdown",
      "source": [
        "### Applying model function\n",
        "*   The model establishes a relationship between features and targets\n",
        "*   Here, house Size is feature and  price is the target\n",
        "*   The model has two parameters 𝑤 and 𝑏 whose values are 'fit' using training data.\n",
        "*   once trained, the model is used to make predictionso on new unseen data."
      ],
      "metadata": {
        "id": "GxLB_qdql3lP"
      }
    },
    {
      "cell_type": "code",
      "source": [
        "w_init=0\n",
        "b_init=0\n",
        "print(f\"Parameters (w,b):{w_init,b_init}\")"
      ],
      "metadata": {
        "colab": {
          "base_uri": "https://localhost:8080/"
        },
        "id": "IbgzD35MlX0j",
        "outputId": "9f5f289a-e8ad-48a2-9602-fa5514daf374"
      },
      "execution_count": null,
      "outputs": [
        {
          "output_type": "stream",
          "name": "stdout",
          "text": [
            "Parameters (w,b):(0, 0)\n"
          ]
        }
      ]
    },
    {
      "cell_type": "code",
      "source": [
        "def compute_model_output(x,w,b):\n",
        "  m=x_train.shape[0]\n",
        "  f_wb=np.zeros(m)\n",
        "  for i in range(m):\n",
        "    f_wb[i]=w*x[i]+b\n",
        "  return f_wb"
      ],
      "metadata": {
        "id": "4m1rzz2QmBYy"
      },
      "execution_count": null,
      "outputs": []
    },
    {
      "cell_type": "code",
      "source": [
        "f_wb=compute_model_output(x_train,w_init,b_init)\n",
        "plt.plot(x_train,f_wb,c='b',label='Predictec Values')\n",
        "plt.scatter(x_train,y_train,c='r',marker='x',label='Actual Values')\n",
        "plt.title('Housing Prices')\n",
        "plt.ylabel('Price (in 1000s of dollars)')\n",
        "plt.xlabel('Size (in 1000 sqft)')"
      ],
      "metadata": {
        "colab": {
          "base_uri": "https://localhost:8080/",
          "height": 490
        },
        "id": "Omq3IJQ9mbZ6",
        "outputId": "45bacc1e-6fd1-47c5-a3b2-94f31538570b"
      },
      "execution_count": null,
      "outputs": [
        {
          "output_type": "execute_result",
          "data": {
            "text/plain": [
              "Text(0.5, 0, 'Size (in 1000 sqft)')"
            ]
          },
          "metadata": {},
          "execution_count": 125
        },
        {
          "output_type": "display_data",
          "data": {
            "text/plain": [
              "<Figure size 640x480 with 1 Axes>"
            ],
            "image/png": "[encoded data removed]"
          },
          "metadata": {}
        }
      ]
    },
    {
      "cell_type": "markdown",
      "source": [
        "### Setting up the Cost Function\n",
        "\n",
        "*   The cost equation provides a measure of how well the predictions match training data.\n",
        "\n",
        "\n"
      ],
      "metadata": {
        "id": "uNX-27MW1Ay8"
      }
    },
    {
      "cell_type": "code",
      "source": [
        "def compute_cost(y_train,f_wb,w,b,m):\n",
        "  cost_sum=0\n",
        "  for i in range(m):\n",
        "    error=f_wb[i]-y_train[i]\n",
        "    squared_error=error**2\n",
        "    cost_sum+=squared_error\n",
        "  total_cost=(1/(2*m))*cost_sum\n",
        "  return total_cost"
      ],
      "metadata": {
        "id": "FerS0jrt1KSx"
      },
      "execution_count": null,
      "outputs": []
    },
    {
      "cell_type": "code",
      "source": [
        "cost=compute_cost(y_train,f_wb,w_init,b_init,m);"
      ],
      "metadata": {
        "id": "xyQEViPH2HKH"
      },
      "execution_count": null,
      "outputs": []
    },
    {
      "cell_type": "code",
      "source": [
        "print(cost)"
      ],
      "metadata": {
        "colab": {
          "base_uri": "https://localhost:8080/"
        },
        "id": "UFShQ_Cf2S7z",
        "outputId": "da775cc5-3deb-4fa1-ede4-131813653515"
      },
      "execution_count": null,
      "outputs": [
        {
          "output_type": "stream",
          "name": "stdout",
          "text": [
            "124800.0\n"
          ]
        }
      ]
    },
    {
      "cell_type": "markdown",
      "source": [
        "### Implementing Gradient Descent\n",
        "\n",
        "*   Process to optimize the parameters to minimize cost function"
      ],
      "metadata": {
        "id": "iyFTv9GX5nuI"
      }
    },
    {
      "cell_type": "code",
      "source": [
        "def compute_gradient(x,y,f_wb,w,b,m):\n",
        "  dj_dw=0\n",
        "  dj_db=0\n",
        "  for i in range(m):\n",
        "    dj_dw_i=(f_wb[i]-y[i])*x[i]\n",
        "    dj_db_i=(f_wb[i]-y[i])\n",
        "    dj_dw+=dj_dw_i\n",
        "    dj_db+=dj_db_i\n",
        "  dj_dw/=m\n",
        "  dj_db/=m\n",
        "  return dj_dw,dj_db\n"
      ],
      "metadata": {
        "id": "V8WiP9AJ2UlJ"
      },
      "execution_count": null,
      "outputs": []
    },
    {
      "cell_type": "code",
      "source": [
        "def gradient_descent(x_train,y_train,w_init,b_init,alpha,num_itrs):\n",
        "  w=w_init\n",
        "  b=b_init\n",
        "  m=x_train.shape[0]\n",
        "  cost_history=[]\n",
        "  for i in range(num_itrs):\n",
        "    f_wb=compute_model_output(x_train,w,b)\n",
        "    cost_before=compute_cost(y_train,f_wb,w,b,m)\n",
        "    dj_dw,dj_db=compute_gradient(x_train,y_train,f_wb,w,b,m)\n",
        "    w=w-alpha*dj_dw\n",
        "    b=b-alpha*dj_db\n",
        "    f_wb=compute_model_output(x_train,w,b)\n",
        "    cost_after=compute_cost(y_train,f_wb,w,b,m)\n",
        "    cost_history.append(cost_after)\n",
        "\n",
        "    if i%100==0:\n",
        "        print(f\"For Iteration {i}:\\n Cost before update:{cost_before}\\n Cost after update:{cost_after}\\n w:{w} b:{b} \\n\")\n",
        "  return w,b,cost_history"
      ],
      "metadata": {
        "id": "CUOex3rm7TSn"
      },
      "execution_count": null,
      "outputs": []
    },
    {
      "cell_type": "code",
      "source": [
        "alpha=0.11\n",
        "num_itrs=1000\n",
        "w_final,b_final,cost_history=gradient_descent(x_train,y_train,w_init,b_init,alpha,num_itrs)"
      ],
      "metadata": {
        "colab": {
          "base_uri": "https://localhost:8080/"
        },
        "id": "fcns1_WY-3TY",
        "outputId": "db0de735-fe0e-410e-8a06-bdaa2aedecf1"
      },
      "execution_count": null,
      "outputs": [
        {
          "output_type": "stream",
          "name": "stdout",
          "text": [
            "For Iteration 0:\n",
            " Cost before update:124800.0\n",
            " Cost after update:72640.65731481483\n",
            " w:211.56666666666666 b:51.7 \n",
            "\n",
            "For Iteration 100:\n",
            " Cost before update:1088.9117860563554\n",
            " Cost after update:1088.1412896392753\n",
            " w:98.67777221104676 b:122.08952648510167 \n",
            "\n",
            "For Iteration 200:\n",
            " Cost before update:1069.8598362449657\n",
            " Cost after update:1069.8464822271144\n",
            " w:95.85632851556946 b:134.1686870008899 \n",
            "\n",
            "For Iteration 300:\n",
            " Cost before update:1069.5296334403565\n",
            " Cost after update:1069.5294019924363\n",
            " w:95.4848856232709 b:135.7589077541385 \n",
            "\n",
            "For Iteration 400:\n",
            " Cost before update:1069.523910462222\n",
            " Cost after update:1069.5239064508348\n",
            " w:95.43598518890656 b:135.9682602203758 \n",
            "\n",
            "For Iteration 500:\n",
            " Cost before update:1069.5238112732443\n",
            " Cost after update:1069.5238112037202\n",
            " w:95.42954744967233 b:135.99582145992713 \n",
            "\n",
            "For Iteration 600:\n",
            " Cost before update:1069.5238095541317\n",
            " Cost after update:1069.5238095529244\n",
            " w:95.4286999216905 b:135.99944989545145 \n",
            "\n",
            "For Iteration 700:\n",
            " Cost before update:1069.523809524335\n",
            " Cost after update:1069.5238095243137\n",
            " w:95.42858834468281 b:135.99992757876936 \n",
            "\n",
            "For Iteration 800:\n",
            " Cost before update:1069.5238095238187\n",
            " Cost after update:1069.5238095238171\n",
            " w:95.4285736555765 b:135.99999046574928 \n",
            "\n",
            "For Iteration 900:\n",
            " Cost before update:1069.5238095238092\n",
            " Cost after update:1069.5238095238099\n",
            " w:95.42857172175648 b:135.99999874481645 \n",
            "\n"
          ]
        }
      ]
    },
    {
      "cell_type": "code",
      "source": [
        "print(f\"Final parameters: w = {w_final}, b = {b_final}\")"
      ],
      "metadata": {
        "colab": {
          "base_uri": "https://localhost:8080/"
        },
        "id": "izvImgdy_Scf",
        "outputId": "547a4302-4e5f-483e-a1cd-5e4b109a7f46"
      },
      "execution_count": null,
      "outputs": [
        {
          "output_type": "stream",
          "name": "stdout",
          "text": [
            "Final parameters: w = 95.42857146795983, b = 135.99999983137045\n"
          ]
        }
      ]
    },
    {
      "cell_type": "markdown",
      "source": [
        "### Visualization of Fitted Line"
      ],
      "metadata": {
        "id": "nARLYINoDOGN"
      }
    },
    {
      "cell_type": "code",
      "source": [
        "f_wb=compute_model_output(x_train,w_final,b_final)\n",
        "plt.plot(x_train,f_wb,c='b',label='Predicted Values')\n",
        "plt.scatter(x_train,y_train,c='r',marker='x',label='Actual Values')\n",
        "plt.legend()\n",
        "plt.title('Housing Prices')\n",
        "plt.ylabel('Price (in 1000s of dollars)')\n",
        "plt.xlabel('Size (in 1000 sqft)')"
      ],
      "metadata": {
        "colab": {
          "base_uri": "https://localhost:8080/",
          "height": 490
        },
        "id": "mRI-68VzB0Ms",
        "outputId": "753db75a-5db9-4769-cd78-235c0efb5adb"
      },
      "execution_count": null,
      "outputs": [
        {
          "output_type": "execute_result",
          "data": {
            "text/plain": [
              "Text(0.5, 0, 'Size (in 1000 sqft)')"
            ]
          },
          "metadata": {},
          "execution_count": 139
        },
        {
          "output_type": "display_data",
          "data": {
            "text/plain": [
              "<Figure size 640x480 with 1 Axes>"
            ],
            "image/png": "[encoded data removed]"
          },
          "metadata": {}
        }
      ]
    }
  ]
}
