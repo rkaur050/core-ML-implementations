{
  "nbformat": 4,
  "nbformat_minor": 0,
  "metadata": {
    "colab": {
      "provenance": [],
      "authorship_tag": "ABX9TyOOBTConPykskp0U7Cketz4",
      "include_colab_link": true
    },
    "kernelspec": {
      "name": "python3",
      "display_name": "Python 3"
    },
    "language_info": {
      "name": "python"
    }
  },
  "cells": [
    {
      "cell_type": "markdown",
      "metadata": {
        "id": "view-in-github",
        "colab_type": "text"
      },
      "source": [
        "<a href=\"https://colab.research.google.com/github/rkaur050/linear-regression/blob/main/mulitple_linear_regression.ipynb\" target=\"_parent\"><img src=\"https://colab.research.google.com/assets/colab-badge.svg\" alt=\"Open In Colab\"/></a>"
      ]
    },
    {
      "cell_type": "markdown",
      "source": [
        "## Model Representation for **Linear Regression** with multiple variables"
      ],
      "metadata": {
        "id": "tjCIqLR66ypg"
      }
    },
    {
      "cell_type": "code",
      "execution_count": null,
      "metadata": {
        "id": "f1vrFc-YG-zP"
      },
      "outputs": [],
      "source": [
        "import numpy as np\n",
        "import matplotlib.pyplot as plt"
      ]
    },
    {
      "cell_type": "markdown",
      "source": [
        "### House Price Prediction Dataset\n",
        "\n",
        "\n",
        "*   \n",
        "The training dataset contains three examples with four features (size(in sqft), no. of bedrooms, no. of floors and, age of home)\n",
        "\n",
        "*   The target variable we want to predict is the price of the house in 1000s of dollars.\n",
        "\n"
      ],
      "metadata": {
        "id": "v93gI55bHoW_"
      }
    },
    {
      "cell_type": "code",
      "source": [
        "X_train = np.array([[2104, 5, 1, 45], [1416, 3, 2, 40], [852, 2, 1, 35]])\n",
        "y_train = np.array([460, 232, 178])"
      ],
      "metadata": {
        "id": "PofUdb-rHX3S"
      },
      "execution_count": null,
      "outputs": []
    },
    {
      "cell_type": "markdown",
      "source": [
        "### Feature Scaling - Normalizing the Features"
      ],
      "metadata": {
        "id": "jWVEJEcySSKj"
      }
    },
    {
      "cell_type": "code",
      "source": [
        "def z_score_normalization(X):\n",
        "  mean=np.mean(X,axis=0)\n",
        "  std=np.std(X,axis=0)\n",
        "  X_norm=(X-mean)/std\n",
        "  return X_norm"
      ],
      "metadata": {
        "id": "RF5VB36uSaw4"
      },
      "execution_count": null,
      "outputs": []
    },
    {
      "cell_type": "markdown",
      "source": [
        "### Initializing Parameters"
      ],
      "metadata": {
        "id": "0XXET02TJVig"
      }
    },
    {
      "cell_type": "code",
      "source": [
        "w_init=np.zeros(4)\n",
        "b_init=0\n",
        "alpha=0.1\n",
        "num_itrs=1000"
      ],
      "metadata": {
        "id": "8LxUs7JjJXxV"
      },
      "execution_count": null,
      "outputs": []
    },
    {
      "cell_type": "markdown",
      "source": [
        "### Model Output function"
      ],
      "metadata": {
        "id": "a0NnuxJcJhVq"
      }
    },
    {
      "cell_type": "code",
      "source": [
        "def compute_model_output(X,w,b):\n",
        "  return np.dot(X,w)+b"
      ],
      "metadata": {
        "id": "wolUn-NhJgyR"
      },
      "execution_count": null,
      "outputs": []
    },
    {
      "cell_type": "markdown",
      "source": [
        "### Cost Function (Mean Squared Error)"
      ],
      "metadata": {
        "id": "d43ZqOC7J197"
      }
    },
    {
      "cell_type": "code",
      "source": [
        "def compute_cost(X,y,w,b):\n",
        "  m=len(y)\n",
        "  predictions=compute_model_output(X,w,b)\n",
        "  cost=(1/(2*m))*np.sum((predictions-y)**2)\n",
        "  return cost"
      ],
      "metadata": {
        "id": "pW-pM2PlJ0fN"
      },
      "execution_count": null,
      "outputs": []
    },
    {
      "cell_type": "markdown",
      "source": [
        "### Gradient Descent Function"
      ],
      "metadata": {
        "id": "Iq2WlBuFKzAw"
      }
    },
    {
      "cell_type": "code",
      "source": [
        "def gradient_descent(X,y,w,b,alpha,num_itrs):\n",
        "  m=len(y)\n",
        "  for i in range(num_itrs):\n",
        "    predictions=compute_model_output(X,w,b)\n",
        "\n",
        "    dj_dw=(1/m)*np.dot(X.T,(predictions-y))\n",
        "    dj_db=(1/m)*np.sum(predictions-y)\n",
        "\n",
        "    w=w-alpha*dj_dw\n",
        "    b=b-alpha*dj_db\n",
        "\n",
        "    cost=compute_cost(X,y,w,b)\n",
        "\n",
        "    if i%100==0:\n",
        "      print(f\"For iteration {i}:\\n Cost:{cost} \\n w:{w} b:{b} \\n\")\n",
        "  return w,b\n"
      ],
      "metadata": {
        "id": "7PZyNe4nKxNo"
      },
      "execution_count": null,
      "outputs": []
    },
    {
      "cell_type": "code",
      "source": [
        "X_norm=z_score_normalization(X_train)\n",
        "w_final,b_final=gradient_descent(X_norm,y_train,w_init,b_init,alpha,num_itrs)"
      ],
      "metadata": {
        "colab": {
          "base_uri": "https://localhost:8080/"
        },
        "id": "Y-Hi-Bo2NP5J",
        "outputId": "29dfd020-88cd-4842-eb3a-fc87a5e4d54e"
      },
      "execution_count": null,
      "outputs": [
        {
          "output_type": "stream",
          "name": "stdout",
          "text": [
            "For iteration 0:\n",
            " Cost:37840.45516847249 \n",
            " w:[11.72795825 12.08020813 -4.10121933 11.51260179] b:29.0 \n",
            "\n",
            "For iteration 100:\n",
            " Cost:2.41945486859267e-05 \n",
            " w:[ 38.05165284  41.54323672 -30.98838217  36.3418446 ] b:289.9930674748903 \n",
            "\n",
            "For iteration 200:\n",
            " Cost:1.7048750745425607e-14 \n",
            " w:[ 38.05161505  41.54327451 -30.98894654  36.34177447] b:289.9999998158624 \n",
            "\n",
            "For iteration 300:\n",
            " Cost:1.1725392888748092e-23 \n",
            " w:[ 38.05161505  41.54327451 -30.98894656  36.34177447] b:289.99999999999517 \n",
            "\n",
            "For iteration 400:\n",
            " Cost:3.069615554396001e-26 \n",
            " w:[ 38.05161505  41.54327451 -30.98894656  36.34177447] b:289.9999999999998 \n",
            "\n",
            "For iteration 500:\n",
            " Cost:3.069615554396001e-26 \n",
            " w:[ 38.05161505  41.54327451 -30.98894656  36.34177447] b:289.9999999999998 \n",
            "\n",
            "For iteration 600:\n",
            " Cost:3.069615554396001e-26 \n",
            " w:[ 38.05161505  41.54327451 -30.98894656  36.34177447] b:289.9999999999998 \n",
            "\n",
            "For iteration 700:\n",
            " Cost:3.069615554396001e-26 \n",
            " w:[ 38.05161505  41.54327451 -30.98894656  36.34177447] b:289.9999999999998 \n",
            "\n",
            "For iteration 800:\n",
            " Cost:3.069615554396001e-26 \n",
            " w:[ 38.05161505  41.54327451 -30.98894656  36.34177447] b:289.9999999999998 \n",
            "\n",
            "For iteration 900:\n",
            " Cost:3.069615554396001e-26 \n",
            " w:[ 38.05161505  41.54327451 -30.98894656  36.34177447] b:289.9999999999998 \n",
            "\n"
          ]
        }
      ]
    },
    {
      "cell_type": "code",
      "source": [
        "print(f\"Final weight:{w_final}\\nFinal bias:{b_final}\")"
      ],
      "metadata": {
        "colab": {
          "base_uri": "https://localhost:8080/"
        },
        "id": "Hh0ZPgNmNZ4I",
        "outputId": "05caeccf-57e4-4dc7-9c79-668b596c9cd3"
      },
      "execution_count": null,
      "outputs": [
        {
          "output_type": "stream",
          "name": "stdout",
          "text": [
            "Final weight:[ 38.05161505  41.54327451 -30.98894656  36.34177447]\n",
            "Final bias:289.9999999999998\n"
          ]
        }
      ]
    }
  ]
}
